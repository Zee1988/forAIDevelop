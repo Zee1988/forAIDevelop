{
 "cells": [
  {
   "attachments": {},
   "cell_type": "markdown",
   "metadata": {},
   "source": [
    "### Steaming: 某些聊天模型提供流式响应。这意味着您不必等待整个响应返回，而是可以在它可用时立即开始处理。如果您想要在生成响应时向用户显示响应，或者想要在生成响应时对其进行处理，这非常有用。"
   ]
  },
  {
   "cell_type": "code",
   "execution_count": null,
   "metadata": {},
   "outputs": [],
   "source": [
    "import os\n",
    "import openai\n",
    "from dotenv import load_dotenv, find_dotenv\n",
    "_ = load_dotenv(find_dotenv()) # read local .env file\n",
    "openai.api_key = os.environ['OPENAI_API_KEY']\n",
    "print(openai.api_key )"
   ]
  },
  {
   "cell_type": "code",
   "execution_count": 3,
   "metadata": {},
   "outputs": [
    {
     "name": "stdout",
     "output_type": "stream",
     "text": [
      "Verse 1:\n",
      "Bubbles rising to the top\n",
      "Refreshing taste, it never stops\n",
      "Clear and crisp, it's just so pure\n",
      "Sparkling water, I adore\n",
      "\n",
      "Chorus:\n",
      "Sparkling water, oh how you shine\n",
      "You quench my thirst every time\n",
      "With every sip, I feel alive\n",
      "Sparkling water, you're my vibe\n",
      "\n",
      "Verse 2:\n",
      "No sugar, no calories\n",
      "Just the fizz that sets me free\n",
      "A drink that's good for my health\n",
      "Sparkling water, you're my wealth\n",
      "\n",
      "Chorus:\n",
      "Sparkling water, oh how you shine\n",
      "You quench my thirst every time\n",
      "With every sip, I feel alive\n",
      "Sparkling water, you're my vibe\n",
      "\n",
      "Bridge:\n",
      "From the mountains to the sea\n",
      "You're the drink that's meant for me\n",
      "In a glass or in a can\n",
      "Sparkling water, you're my fan\n",
      "\n",
      "Chorus:\n",
      "Sparkling water, oh how you shine\n",
      "You quench my thirst every time\n",
      "With every sip, I feel alive\n",
      "Sparkling water, you're my vibe\n",
      "\n",
      "Outro:\n",
      "Sparkling water, you're my friend\n",
      "Until the very end\n",
      "I'll drink you up, I'll never stop\n",
      "Sparkling water, you're on top."
     ]
    }
   ],
   "source": [
    "from langchain.chat_models import ChatOpenAI\n",
    "from langchain.schema import (\n",
    "    HumanMessage\n",
    ")\n",
    "from langchain.callbacks.streaming_stdout import StreamingStdOutCallbackHandler\n",
    "\n",
    "chat = ChatOpenAI(streaming=True, callbacks=[StreamingStdOutCallbackHandler()], temperature=0)\n",
    "resp = chat([HumanMessage(content=\"Write me a song about sparking water.\")])"
   ]
  }
 ],
 "metadata": {
  "kernelspec": {
   "display_name": "openai",
   "language": "python",
   "name": "python3"
  },
  "language_info": {
   "codemirror_mode": {
    "name": "ipython",
    "version": 3
   },
   "file_extension": ".py",
   "mimetype": "text/x-python",
   "name": "python",
   "nbconvert_exporter": "python",
   "pygments_lexer": "ipython3",
   "version": "3.10.11"
  },
  "orig_nbformat": 4
 },
 "nbformat": 4,
 "nbformat_minor": 2
}
