{
 "cells": [
  {
   "cell_type": "code",
   "execution_count": null,
   "metadata": {},
   "outputs": [],
   "source": [
    "import os\n",
    "from dotenv import load_dotenv, find_dotenv\n",
    "_ = load_dotenv(find_dotenv()) # read local .env file\n",
    "file =  os.environ[\"FILE_PATH\"]"
   ]
  },
  {
   "cell_type": "markdown",
   "metadata": {},
   "source": [
    "### Split by character: 这是最简单的方法。它基于字符(默认情况下为“\\n\\n”)进行分割，把一个大的文件，分割成一段段的，并根据字符数测量块长度。"
   ]
  },
  {
   "cell_type": "code",
   "execution_count": null,
   "metadata": {},
   "outputs": [],
   "source": [
    "with open(file+\"sample.txt\") as f:\n",
    "    data = f.read()"
   ]
  },
  {
   "cell_type": "code",
   "execution_count": null,
   "metadata": {},
   "outputs": [],
   "source": [
    "from langchain.text_splitter import CharacterTextSplitter\n",
    "text_splitter = CharacterTextSplitter(\n",
    "    separator = \"\\n\\n\",\n",
    "    chunk_size = 1000,\n",
    "    chunk_overlap = 200,\n",
    "    length_function =len,\n",
    ")\n",
    "texts = text_splitter.create_documents([data])\n",
    "#print(texts[4])\n",
    "print(len(texts))\n"
   ]
  },
  {
   "cell_type": "markdown",
   "metadata": {},
   "source": [
    "### 如下是，分别分割不同的文件，文件是[data2, data3],切分后放到metadatas的[{\"document\":1},{\"documents\":2}]里"
   ]
  },
  {
   "cell_type": "code",
   "execution_count": null,
   "metadata": {},
   "outputs": [],
   "source": [
    "\n",
    "with open(file+\"sample2.txt\") as f:\n",
    "    data2 = f.read()\n",
    "\n",
    "with open(file+\"sample3.txt\") as f:\n",
    "    data3 = f.read()\n",
    "\n",
    "metadatas = [{\"document\":1},{\"document\":2}]\n",
    "documents = text_splitter.create_documents([data2, data3], metadatas=metadatas)\n",
    "#print(len(documents))\n",
    "print(documents[:4])\n",
    "print(documents[5:9])"
   ]
  },
  {
   "cell_type": "markdown",
   "metadata": {},
   "source": [
    "### 下面是直接切割，不做任何限制"
   ]
  },
  {
   "cell_type": "code",
   "execution_count": null,
   "metadata": {},
   "outputs": [],
   "source": [
    "text_splitter.split_text(data)[0]"
   ]
  },
  {
   "cell_type": "markdown",
   "metadata": {},
   "source": [
    "### Using RecursiveCharacterTextSplitter, 按句子来进行切分，这样语义相关性最强："
   ]
  },
  {
   "cell_type": "code",
   "execution_count": null,
   "metadata": {},
   "outputs": [],
   "source": [
    "with open(file+\"sample.txt\") as f:\n",
    "    data2 = f.read()"
   ]
  },
  {
   "cell_type": "code",
   "execution_count": null,
   "metadata": {},
   "outputs": [],
   "source": [
    "from langchain.text_splitter import RecursiveCharacterTextSplitter\n",
    "text_splitter = RecursiveCharacterTextSplitter(\n",
    "    chunk_size =100,\n",
    "    chunk_overlap = 20,\n",
    "    length_function = len,\n",
    ")\n",
    "\n",
    "texts = text_splitter.create_documents([data])\n",
    "for text in texts:\n",
    "    print(text)"
   ]
  },
  {
   "cell_type": "markdown",
   "metadata": {},
   "source": [
    "### 以token来进行切分，防止超过llm可接受的最大token."
   ]
  },
  {
   "cell_type": "code",
   "execution_count": null,
   "metadata": {},
   "outputs": [],
   "source": [
    "with open(file+\"sample.txt\") as f:\n",
    "    data = f.read()\n",
    "from langchain.text_splitter import CharacterTextSplitter"
   ]
  },
  {
   "cell_type": "code",
   "execution_count": 17,
   "metadata": {},
   "outputs": [
    {
     "name": "stderr",
     "output_type": "stream",
     "text": [
      "Created a chunk of size 461, which is longer than the specified 100\n",
      "Created a chunk of size 461, which is longer than the specified 100\n",
      "Created a chunk of size 129, which is longer than the specified 100\n",
      "Created a chunk of size 213, which is longer than the specified 100\n"
     ]
    },
    {
     "name": "stdout",
     "output_type": "stream",
     "text": [
      "5\n",
      "According to the record kept by Mr. McKinney, on the west shore of the lake, eight miles above Tahoe City, at an elevation of 6,500 feet above sea-level, the amount of snow, measured as it fell, was twenty-two feet and four inches for the season up to March 20th, with four inches of rain, while an inch or two more of rain and two or three feet of snow will probably fall before the full opening of spring. Last season the snowfall, measured by the same observer, at the same station, was only nine feet and seven inches, while the season before last it was no less than forty seven feet and six inches. The fall about Yosemite Valley, according to my own observations, usually considerably exceeded this. The greater portion of the snow that loads the main summits of the range falls in small crisp flakes and broken crystals; or when accompanied by strong winds at a low temperature, the crystals, instead of being locked together in tufted flakes, are driven against each other and broken into meal and fine dust which darkens the sky like night But down in the forested region, at about the elevation of Lake Tahoe, the greater portion comes gently to the ground, light and feathery, some of the flakes in mild weather being nearly an inch in diameter, and is evenly distributed and kept from drifting to any great extent by Lake Tahoe in Winter. 121 the shelter of the woods. Every tree is loaded with the fairy bloom, bending down the branches, and hushing the singing of the elastic needles. When the storm is over and the sun shines, the dazzling snow at once begins to settle and shift and fall off the trees in miniature avalanches; then the relieved branches spring up and shake themselves dry, and the whole green forest, fed and refreshed, waves and sings again rejoicing. The snow on the ground settles also, and thaws and freezes until it becomes coarsely granulated ice, with all trace of its crystalline snow structure destroyed. This is the present condition of most of the snow on the range. From towards midnight until midday at this time of year a man may walk firmly over the surface, as if on ice, provided the preceding day has been warm and the night frosty.\n"
     ]
    }
   ],
   "source": [
    "text_splitter = CharacterTextSplitter.from_tiktoken_encoder(\n",
    "    chunk_size=100, chunk_overlap=0\n",
    ")\n",
    "texts = text_splitter.split_text(data)\n",
    "print(len(texts))\n",
    "print(texts[0])"
   ]
  },
  {
   "cell_type": "code",
   "execution_count": null,
   "metadata": {},
   "outputs": [],
   "source": []
  }
 ],
 "metadata": {
  "kernelspec": {
   "display_name": "Python 3.10.11 ('openai')",
   "language": "python",
   "name": "python3"
  },
  "language_info": {
   "codemirror_mode": {
    "name": "ipython",
    "version": 3
   },
   "file_extension": ".py",
   "mimetype": "text/x-python",
   "name": "python",
   "nbconvert_exporter": "python",
   "pygments_lexer": "ipython3",
   "version": "3.10.11"
  },
  "orig_nbformat": 4,
  "vscode": {
   "interpreter": {
    "hash": "382edab7741184ad6aa1b3bda453c7375fcc346d80c0b8f027407f5537ace097"
   }
  }
 },
 "nbformat": 4,
 "nbformat_minor": 2
}
