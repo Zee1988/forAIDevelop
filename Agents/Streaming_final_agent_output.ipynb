{
 "cells": [
  {
   "cell_type": "code",
   "execution_count": 1,
   "metadata": {},
   "outputs": [],
   "source": [
    "import os\n",
    "import openai\n",
    "from dotenv import load_dotenv, find_dotenv\n",
    "_ = load_dotenv(find_dotenv()) # read local .env file\n",
    "openai.api_key = os.environ['OPENAI_API_KEY']"
   ]
  },
  {
   "cell_type": "markdown",
   "metadata": {},
   "source": [
    "#### 如果您只希望将代理的最终输出流式传输，则可以使用回调FinalStreamingStdOutCallbackHandler。为此，底层LLM也必须支持流。"
   ]
  },
  {
   "cell_type": "code",
   "execution_count": 1,
   "metadata": {},
   "outputs": [],
   "source": [
    "from langchain.agents import load_tools\n",
    "from langchain.agents import initialize_agent\n",
    "from langchain.agents import AgentType\n",
    "from langchain.callbacks.streaming_stdout_final_only import (\n",
    "    FinalStreamingStdOutCallbackHandler,\n",
    ")\n",
    "from langchain.llms import OpenAI"
   ]
  },
  {
   "cell_type": "code",
   "execution_count": 2,
   "metadata": {},
   "outputs": [],
   "source": [
    "# 让我们使用streaming = True创建底层LLM，并传递一个新的FinalStreamingStdOutCallbackHandler实例。\n",
    "llm = OpenAI(\n",
    "    streaming=True, callbacks=[FinalStreamingStdOutCallbackHandler()], temperature=0\n",
    ")"
   ]
  },
  {
   "cell_type": "code",
   "execution_count": 3,
   "metadata": {},
   "outputs": [
    {
     "name": "stdout",
     "output_type": "stream",
     "text": [
      " Konrad Adenauer became Chancellor of Germany in 1949, making it 74 years ago in 2023."
     ]
    },
    {
     "data": {
      "text/plain": [
       "'Konrad Adenauer became Chancellor of Germany in 1949, making it 74 years ago in 2023.'"
      ]
     },
     "execution_count": 3,
     "metadata": {},
     "output_type": "execute_result"
    }
   ],
   "source": [
    "tools = load_tools([\"wikipedia\", \"llm-math\"], llm=llm)\n",
    "agent = initialize_agent(\n",
    "    tools, llm, agent=AgentType.ZERO_SHOT_REACT_DESCRIPTION, verbose=False\n",
    ")\n",
    "agent.run(\n",
    "    \"It's 2023 now. How many years ago did Konrad Adenauer become Chancellor of Germany.\"\n",
    ")"
   ]
  },
  {
   "cell_type": "code",
   "execution_count": 4,
   "metadata": {},
   "outputs": [],
   "source": [
    "# 默认情况下，我们假设令牌序列“Final”、“Answer”、“:”表示代理已达成应答。但是，我们也可以传递一个自定义序列作为回答前缀。\n",
    "llm = OpenAI(\n",
    "    streaming=True,\n",
    "    callbacks=[\n",
    "        FinalStreamingStdOutCallbackHandler(answer_prefix_tokens=[\"The\", \"answer\", \":\"])\n",
    "    ],\n",
    "    temperature=0,\n",
    ")"
   ]
  },
  {
   "cell_type": "code",
   "execution_count": 5,
   "metadata": {},
   "outputs": [
    {
     "name": "stdout",
     "output_type": "stream",
     "text": [
      "# I#\n",
      "# need#\n",
      "# to#\n",
      "# figure#\n",
      "# out#\n",
      "# when#\n",
      "# Kon#\n",
      "#rad#\n",
      "# Aden#\n",
      "#auer#\n",
      "# became#\n",
      "# Chancellor#\n",
      "#\n",
      "Action#\n",
      "#:#\n",
      "# Wikipedia#\n",
      "#\n",
      "Action#\n",
      "# Input#\n",
      "#:#\n",
      "# \"#\n",
      "#K#\n",
      "#on#\n",
      "#rad#\n",
      "# Aden#\n",
      "#auer#\n",
      "#\"#\n",
      "##\n",
      "# I#\n",
      "# need#\n",
      "# to#\n",
      "# find#\n",
      "# out#\n",
      "# what#\n",
      "# year#\n",
      "# Kon#\n",
      "#rad#\n",
      "# Aden#\n",
      "#auer#\n",
      "# became#\n",
      "# Chancellor#\n",
      "#\n",
      "Action#\n",
      "#:#\n",
      "# Wikipedia#\n",
      "#\n",
      "Action#\n",
      "# Input#\n",
      "#:#\n",
      "# \"#\n",
      "#K#\n",
      "#on#\n",
      "#rad#\n",
      "# Aden#\n",
      "#auer#\n",
      "#\"#\n",
      "##\n",
      "# I#\n",
      "# now#\n",
      "# know#\n",
      "# the#\n",
      "# answer#\n",
      "#\n",
      "Final#\n",
      "# Answer#\n",
      "#:#\n",
      "# Kon#\n",
      "#rad#\n",
      "# Aden#\n",
      "#auer#\n",
      "# became#\n",
      "# Chancellor#\n",
      "# of#\n",
      "# Germany#\n",
      "# in#\n",
      "# 1949#\n",
      "#,#\n",
      "# 74#\n",
      "# years#\n",
      "# ago#\n",
      "#.#\n",
      "##\n"
     ]
    },
    {
     "data": {
      "text/plain": [
       "'Konrad Adenauer became Chancellor of Germany in 1949, 74 years ago.'"
      ]
     },
     "execution_count": 5,
     "metadata": {},
     "output_type": "execute_result"
    }
   ],
   "source": [
    "# 为方便起见，在与answer_prefix_tokens比较时，回调会自动去掉空白和换行字符。例如，如果answer_prefix_tokens = [\"The\"， \" answer\"， \":\"]，那么[\"\\nThe\"， \" answer\"， \":\"]和[\"The\"， \" answer\"， \":\"]将被识别为答案前缀。\n",
    "from langchain.callbacks.base import BaseCallbackHandler\n",
    "\n",
    "\n",
    "class MyCallbackHandler(BaseCallbackHandler):\n",
    "    def on_llm_new_token(self, token, **kwargs) -> None:\n",
    "        # print every token on a new line\n",
    "        print(f\"#{token}#\")\n",
    "\n",
    "\n",
    "llm = OpenAI(streaming=True, callbacks=[MyCallbackHandler()])\n",
    "tools = load_tools([\"wikipedia\", \"llm-math\"], llm=llm)\n",
    "agent = initialize_agent(\n",
    "    tools, llm, agent=AgentType.ZERO_SHOT_REACT_DESCRIPTION, verbose=False\n",
    ")\n",
    "agent.run(\n",
    "    \"It's 2023 now. How many years ago did Konrad Adenauer become Chancellor of Germany.\"\n",
    ")"
   ]
  },
  {
   "cell_type": "code",
   "execution_count": 6,
   "metadata": {},
   "outputs": [
    {
     "ename": "SyntaxError",
     "evalue": "invalid character '。' (U+3002) (3308388882.py, line 3)",
     "output_type": "error",
     "traceback": [
      "\u001b[1;36m  Cell \u001b[1;32mIn[6], line 3\u001b[1;36m\u001b[0m\n\u001b[1;33m    您不仅希望action_input可以流,而且需要整个JSON。\u001b[0m\n\u001b[1;37m                                   ^\u001b[0m\n\u001b[1;31mSyntaxError\u001b[0m\u001b[1;31m:\u001b[0m invalid character '。' (U+3002)\n"
     ]
    }
   ],
   "source": [
    "# 当参数stream_prefix = True被设置时，应答前缀本身也将被流式传输。当答案前缀本身是答案的一部分时，这可能很有用。例如，当您的答案是JSON时，如\n",
    "{ \"action\": \"Final answer\", \"action_input\": \"Konrad Adenauer became Chancellor 74 years ago.\" }\n",
    "您不仅希望action_input可以流,而且需要整个JSON。"
   ]
  },
  {
   "cell_type": "code",
   "execution_count": null,
   "metadata": {},
   "outputs": [],
   "source": []
  },
  {
   "cell_type": "code",
   "execution_count": null,
   "metadata": {},
   "outputs": [],
   "source": []
  },
  {
   "cell_type": "code",
   "execution_count": null,
   "metadata": {},
   "outputs": [],
   "source": []
  }
 ],
 "metadata": {
  "kernelspec": {
   "display_name": "Python 3.10.11 ('openai')",
   "language": "python",
   "name": "python3"
  },
  "language_info": {
   "codemirror_mode": {
    "name": "ipython",
    "version": 3
   },
   "file_extension": ".py",
   "mimetype": "text/x-python",
   "name": "python",
   "nbconvert_exporter": "python",
   "pygments_lexer": "ipython3",
   "version": "3.10.11"
  },
  "orig_nbformat": 4,
  "vscode": {
   "interpreter": {
    "hash": "382edab7741184ad6aa1b3bda453c7375fcc346d80c0b8f027407f5537ace097"
   }
  }
 },
 "nbformat": 4,
 "nbformat_minor": 2
}
