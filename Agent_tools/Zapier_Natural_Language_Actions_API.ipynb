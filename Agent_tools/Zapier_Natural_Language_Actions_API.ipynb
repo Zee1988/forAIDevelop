{
 "cells": [
  {
   "cell_type": "code",
   "execution_count": null,
   "metadata": {},
   "outputs": [],
   "source": [
    "import os\n",
    "\n",
    "# get from https://platform.openai.com/\n",
    "os.environ[\"OPENAI_API_KEY\"] = os.environ.get(\"OPENAI_API_KEY\", \"\")\n",
    "\n",
    "# get from https://nla.zapier.com/docs/authentication/ after logging in):\n",
    "os.environ[\"ZAPIER_NLA_API_KEY\"] = os.environ.get(\"ZAPIER_NLA_API_KEY\", \"\")"
   ]
  },
  {
   "cell_type": "code",
   "execution_count": null,
   "metadata": {},
   "outputs": [],
   "source": [
    "from langchain.llms import OpenAI\n",
    "from langchain.agents import initialize_agent\n",
    "from langchain.agents.agent_toolkits import ZapierToolkit\n",
    "from langchain.agents import AgentType\n",
    "from langchain.utilities.zapier import ZapierNLAWrapper"
   ]
  },
  {
   "cell_type": "code",
   "execution_count": null,
   "metadata": {},
   "outputs": [],
   "source": [
    "## step 0. expose gmail 'find email' and slack 'send channel message' actions\n",
    "\n",
    "# first go here, log in, expose (enable) the two actions: https://nla.zapier.com/demo/start -- for this example, can leave all fields \"Have AI guess\"\n",
    "# in an oauth scenario, you'd get your own <provider> id (instead of 'demo') which you route your users through first"
   ]
  },
  {
   "cell_type": "code",
   "execution_count": null,
   "metadata": {},
   "outputs": [],
   "source": [
    "llm = OpenAI(temperature=0)\n",
    "zapier = ZapierNLAWrapper()\n",
    "toolkit = ZapierToolkit.from_zapier_nla_wrapper(zapier)\n",
    "agent = initialize_agent(\n",
    "    toolkit.get_tools(), llm, agent=AgentType.ZERO_SHOT_REACT_DESCRIPTION, verbose=True\n",
    ")"
   ]
  },
  {
   "cell_type": "code",
   "execution_count": null,
   "metadata": {},
   "outputs": [],
   "source": [
    "agent.run(\n",
    "    \"Summarize the last email I received regarding Silicon Valley Bank. Send the summary to the #test-zapier channel in slack.\"\n",
    ")"
   ]
  },
  {
   "cell_type": "markdown",
   "metadata": {},
   "source": [
    "#### Example with SimpleSequentialChain："
   ]
  },
  {
   "cell_type": "code",
   "execution_count": null,
   "metadata": {},
   "outputs": [],
   "source": [
    "from langchain.llms import OpenAI\n",
    "from langchain.chains import LLMChain, TransformChain, SimpleSequentialChain\n",
    "from langchain.prompts import PromptTemplate\n",
    "from langchain.tools.zapier.tool import ZapierNLARunAction\n",
    "from langchain.utilities.zapier import ZapierNLAWrapper"
   ]
  },
  {
   "cell_type": "code",
   "execution_count": null,
   "metadata": {},
   "outputs": [],
   "source": [
    "## step 0. expose gmail 'find email' and slack 'send direct message' actions\n",
    "\n",
    "# first go here, log in, expose (enable) the two actions: https://nla.zapier.com/demo/start -- for this example, can leave all fields \"Have AI guess\"\n",
    "# in an oauth scenario, you'd get your own <provider> id (instead of 'demo') which you route your users through first\n",
    "\n",
    "actions = ZapierNLAWrapper().list()"
   ]
  },
  {
   "cell_type": "code",
   "execution_count": null,
   "metadata": {},
   "outputs": [],
   "source": [
    "## step 1. gmail find email\n",
    "\n",
    "GMAIL_SEARCH_INSTRUCTIONS = \"Grab the latest email from Silicon Valley Bank\"\n",
    "\n",
    "\n",
    "def nla_gmail(inputs):\n",
    "    action = next(\n",
    "        (a for a in actions if a[\"description\"].startswith(\"Gmail: Find Email\")), None\n",
    "    )\n",
    "    return {\n",
    "        \"email_data\": ZapierNLARunAction(\n",
    "            action_id=action[\"id\"],\n",
    "            zapier_description=action[\"description\"],\n",
    "            params_schema=action[\"params\"],\n",
    "        ).run(inputs[\"instructions\"])\n",
    "    }\n",
    "\n",
    "\n",
    "gmail_chain = TransformChain(\n",
    "    input_variables=[\"instructions\"],\n",
    "    output_variables=[\"email_data\"],\n",
    "    transform=nla_gmail,\n",
    ")"
   ]
  },
  {
   "cell_type": "code",
   "execution_count": null,
   "metadata": {},
   "outputs": [],
   "source": [
    "## step 2. generate draft reply\n",
    "\n",
    "template = \"\"\"You are an assisstant who drafts replies to an incoming email. Output draft reply in plain text (not JSON).\n",
    "\n",
    "Incoming email:\n",
    "{email_data}\n",
    "\n",
    "Draft email reply:\"\"\"\n",
    "\n",
    "prompt_template = PromptTemplate(input_variables=[\"email_data\"], template=template)\n",
    "reply_chain = LLMChain(llm=OpenAI(temperature=0.7), prompt=prompt_template)"
   ]
  },
  {
   "cell_type": "code",
   "execution_count": null,
   "metadata": {},
   "outputs": [],
   "source": [
    "## step 3. send draft reply via a slack direct message\n",
    "\n",
    "SLACK_HANDLE = \"@Ankush Gola\"\n",
    "\n",
    "\n",
    "def nla_slack(inputs):\n",
    "    action = next(\n",
    "        (\n",
    "            a\n",
    "            for a in actions\n",
    "            if a[\"description\"].startswith(\"Slack: Send Direct Message\")\n",
    "        ),\n",
    "        None,\n",
    "    )\n",
    "    instructions = f'Send this to {SLACK_HANDLE} in Slack: {inputs[\"draft_reply\"]}'\n",
    "    return {\n",
    "        \"slack_data\": ZapierNLARunAction(\n",
    "            action_id=action[\"id\"],\n",
    "            zapier_description=action[\"description\"],\n",
    "            params_schema=action[\"params\"],\n",
    "        ).run(instructions)\n",
    "    }\n",
    "\n",
    "\n",
    "slack_chain = TransformChain(\n",
    "    input_variables=[\"draft_reply\"],\n",
    "    output_variables=[\"slack_data\"],\n",
    "    transform=nla_slack,\n",
    ")"
   ]
  },
  {
   "cell_type": "code",
   "execution_count": null,
   "metadata": {},
   "outputs": [],
   "source": [
    "## finally, execute\n",
    "\n",
    "overall_chain = SimpleSequentialChain(\n",
    "    chains=[gmail_chain, reply_chain, slack_chain], verbose=True\n",
    ")\n",
    "overall_chain.run(GMAIL_SEARCH_INSTRUCTIONS)"
   ]
  },
  {
   "cell_type": "markdown",
   "metadata": {},
   "source": [
    "#### Example Using OAuth Access Token"
   ]
  },
  {
   "cell_type": "code",
   "execution_count": null,
   "metadata": {},
   "outputs": [],
   "source": [
    "llm = OpenAI(temperature=0)\n",
    "zapier = ZapierNLAWrapper(zapier_nla_oauth_access_token='<fill in access token here>')\n",
    "toolkit = ZapierToolkit.from_zapier_nla_wrapper(zapier)\n",
    "agent = initialize_agent(\n",
    "    toolkit.get_tools(), llm, agent=AgentType.ZERO_SHOT_REACT_DESCRIPTION, verbose=True\n",
    ")\n",
    "\n",
    "agent.run(\n",
    "    \"Summarize the last email I received regarding Silicon Valley Bank. Send the summary to the #test-zapier channel in slack.\"\n",
    ")"
   ]
  },
  {
   "cell_type": "code",
   "execution_count": null,
   "metadata": {},
   "outputs": [],
   "source": []
  },
  {
   "cell_type": "code",
   "execution_count": null,
   "metadata": {},
   "outputs": [],
   "source": []
  },
  {
   "cell_type": "code",
   "execution_count": null,
   "metadata": {},
   "outputs": [],
   "source": []
  },
  {
   "cell_type": "code",
   "execution_count": null,
   "metadata": {},
   "outputs": [],
   "source": []
  }
 ],
 "metadata": {
  "kernelspec": {
   "display_name": "Python 3.10.11 ('openai')",
   "language": "python",
   "name": "python3"
  },
  "language_info": {
   "codemirror_mode": {
    "name": "ipython",
    "version": 3
   },
   "file_extension": ".py",
   "mimetype": "text/x-python",
   "name": "python",
   "nbconvert_exporter": "python",
   "pygments_lexer": "ipython3",
   "version": "3.10.11"
  },
  "orig_nbformat": 4,
  "vscode": {
   "interpreter": {
    "hash": "382edab7741184ad6aa1b3bda453c7375fcc346d80c0b8f027407f5537ace097"
   }
  }
 },
 "nbformat": 4,
 "nbformat_minor": 2
}
