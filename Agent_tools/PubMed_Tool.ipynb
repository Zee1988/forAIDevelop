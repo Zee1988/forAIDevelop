{
 "cells": [
  {
   "cell_type": "code",
   "execution_count": 3,
   "metadata": {},
   "outputs": [],
   "source": [
    "import os\n",
    "import openai\n",
    "from dotenv import load_dotenv, find_dotenv\n",
    "_ = load_dotenv(find_dotenv()) # read local .env file\n",
    "openai.api_key = os.environ['OPENAI_API_KEY']"
   ]
  },
  {
   "cell_type": "markdown",
   "metadata": {},
   "source": [
    "#### PubMed®包括来自MEDLINE、生命科学期刊和在线图书的超过3500万次生物医学文献引用。引用可能包括PubMed Central和出版商网站全文内容的链接。"
   ]
  },
  {
   "cell_type": "code",
   "execution_count": 4,
   "metadata": {},
   "outputs": [],
   "source": [
    "from langchain.tools import PubmedQueryRun"
   ]
  },
  {
   "cell_type": "code",
   "execution_count": 5,
   "metadata": {},
   "outputs": [],
   "source": [
    "tool = PubmedQueryRun()"
   ]
  },
  {
   "cell_type": "code",
   "execution_count": 8,
   "metadata": {},
   "outputs": [
    {
     "data": {
      "text/plain": [
       "'Published: <Year>2023</Year><Month>Jul</Month><Day>02</Day>\\nTitle: Thirty years of slug control using the parasitic nematode Phasmarhabditis hermaphrodita and beyond.\\nSummary: Several slug species are highly pestiferous and threaten global sustainable agriculture. Current control methods rely heavily on metaldehyde pellets, which are often ineffective, harm non-target organisms and have been banned in some countries. A viable alternative is the parasitic nematode Phasmarhabditis hermaphrodita (and recently P. californica), which has been formulated into a biological control agent (Nemaslug&#xae;) to control slugs across northern Europe. Nematodes are mixed with water and applied to soil where they seek out slugs, penetrate behind the mantle and kill them in 4-21&#x2009;days. P. hermaphrodita has been on the market since 1994 and there has been ample research since. Here we review the research carried out on P. hermaphrodita over the last 30&#x2009;years since its development and release as a commercial product. We provide information on life cycle, worldwide distribution, history of commercialisation, gastropod immunity, host range, ecological and environmental factors that affect its success in the field, bacterial relationships, and summarise results of field trials. Finally, we suggest future directions for P. hermaphrodita research (and other Phasmarhabditis species) to enhance its use as a biological control agent to control slugs for the next 30&#x2009;years. This article is protected by copyright. All rights reserved.\\n\\nPublished: <Year>2023</Year><Month>Jul</Month><Day>03</Day>\\nTitle: Synergistic Effect of Dual-Doped Carbon on Mo<sub>2</sub>C Nanocrystals Facilitates Alkaline Hydrogen Evolution.\\nSummary: Molybdenum carbide (Mo<sub>2</sub>C) materials are promising electrocatalysts with potential applications in hydrogen evolution reaction (HER) due to low cost and Pt-like electronic structures. Nevertheless, their HER activity is usually hindered by the stron'"
      ]
     },
     "execution_count": 8,
     "metadata": {},
     "output_type": "execute_result"
    }
   ],
   "source": [
    "tool.run(\"water\")"
   ]
  },
  {
   "cell_type": "code",
   "execution_count": null,
   "metadata": {},
   "outputs": [],
   "source": []
  },
  {
   "cell_type": "code",
   "execution_count": null,
   "metadata": {},
   "outputs": [],
   "source": []
  },
  {
   "cell_type": "code",
   "execution_count": null,
   "metadata": {},
   "outputs": [],
   "source": []
  },
  {
   "cell_type": "code",
   "execution_count": null,
   "metadata": {},
   "outputs": [],
   "source": []
  },
  {
   "cell_type": "code",
   "execution_count": null,
   "metadata": {},
   "outputs": [],
   "source": []
  }
 ],
 "metadata": {
  "kernelspec": {
   "display_name": "Python 3.10.11 ('openai')",
   "language": "python",
   "name": "python3"
  },
  "language_info": {
   "codemirror_mode": {
    "name": "ipython",
    "version": 3
   },
   "file_extension": ".py",
   "mimetype": "text/x-python",
   "name": "python",
   "nbconvert_exporter": "python",
   "pygments_lexer": "ipython3",
   "version": "3.10.11"
  },
  "orig_nbformat": 4,
  "vscode": {
   "interpreter": {
    "hash": "382edab7741184ad6aa1b3bda453c7375fcc346d80c0b8f027407f5537ace097"
   }
  }
 },
 "nbformat": 4,
 "nbformat_minor": 2
}
