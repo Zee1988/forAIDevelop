{
 "cells": [
  {
   "cell_type": "code",
   "execution_count": null,
   "metadata": {},
   "outputs": [],
   "source": [
    "import os\n",
    "import openai\n",
    "from dotenv import load_dotenv, find_dotenv\n",
    "_ = load_dotenv(find_dotenv()) # read local .env file\n",
    "openai.api_key = os.environ['OPENAI_API_KEY']"
   ]
  },
  {
   "attachments": {},
   "cell_type": "markdown",
   "metadata": {},
   "source": [
    "#### 默认情况下，工具通过检查函数签名来推断参数模式。对于更严格的需求，可以指定自定义输入模式，以及自定义验证逻辑。\n",
    "#### 在Python函数中，函数签名（function signature）指的是函数的声明部分，包括函数名、参数列表和返回值类型。函数签名描述了函数的输入和输出，帮助开发者理解函数的用途和使用方式。"
   ]
  },
  {
   "cell_type": "code",
   "execution_count": null,
   "metadata": {},
   "outputs": [],
   "source": [
    "from typing import Any, Dict\n",
    "from langchain.agents import AgentType, initialize_agent\n",
    "from langchain.llms import OpenAI\n",
    "from langchain.tools.requests.tool import RequestsGetTool,TextRequestsWrapper\n",
    "from pydantic import BaseModel, Field, root_validator"
   ]
  },
  {
   "cell_type": "code",
   "execution_count": null,
   "metadata": {},
   "outputs": [],
   "source": [
    "llm = OpenAI(temperature=0)"
   ]
  },
  {
   "cell_type": "code",
   "execution_count": 1,
   "metadata": {},
   "outputs": [
    {
     "ename": "NameError",
     "evalue": "name 'BaseModel' is not defined",
     "output_type": "error",
     "traceback": [
      "\u001b[1;31m---------------------------------------------------------------------------\u001b[0m",
      "\u001b[1;31mNameError\u001b[0m                                 Traceback (most recent call last)",
      "Cell \u001b[1;32mIn[1], line 9\u001b[0m\n\u001b[0;32m      1\u001b[0m \u001b[39mimport\u001b[39;00m \u001b[39mtldextract\u001b[39;00m \u001b[39m#tldextract是一个第三方模块,意思就是Top Level Domain extract，即顶级域名提取\u001b[39;00m\n\u001b[0;32m      3\u001b[0m _APPROVED_DOMAINS \u001b[39m=\u001b[39m {\n\u001b[0;32m      4\u001b[0m     \u001b[39m\"\u001b[39m\u001b[39mlangchain\u001b[39m\u001b[39m\"\u001b[39m,\n\u001b[0;32m      5\u001b[0m     \u001b[39m\"\u001b[39m\u001b[39mwikipedia\u001b[39m\u001b[39m\"\u001b[39m,\n\u001b[0;32m      6\u001b[0m }\n\u001b[1;32m----> 9\u001b[0m \u001b[39mclass\u001b[39;00m \u001b[39mToolInputSchema\u001b[39;00m(BaseModel):\n\u001b[0;32m     10\u001b[0m     url: \u001b[39mstr\u001b[39m \u001b[39m=\u001b[39m Field(\u001b[39m.\u001b[39m\u001b[39m.\u001b[39m\u001b[39m.\u001b[39m)\n\u001b[0;32m     12\u001b[0m     \u001b[39m@root_validator\u001b[39m\n\u001b[0;32m     13\u001b[0m     \u001b[39mdef\u001b[39;00m \u001b[39mvalidate_query\u001b[39m(\u001b[39mcls\u001b[39m, values: Dict[\u001b[39mstr\u001b[39m, Any]) \u001b[39m-\u001b[39m\u001b[39m>\u001b[39m Dict:\n",
      "\u001b[1;31mNameError\u001b[0m: name 'BaseModel' is not defined"
     ]
    }
   ],
   "source": [
    "import tldextract #tldextract是一个第三方模块,意思就是Top Level Domain extract，即顶级域名提取\n",
    "\n",
    "_APPROVED_DOMAINS = {\n",
    "    \"langchain\",\n",
    "    \"wikipedia\",\n",
    "}\n",
    "\n",
    "\n",
    "class ToolInputSchema(BaseModel):\n",
    "    url: str = Field(...)\n",
    "\n",
    "    @root_validator\n",
    "    def validate_query(cls, values: Dict[str, Any]) -> Dict:\n",
    "        url = values[\"url\"]\n",
    "        domain = tldextract.extract(url).domain\n",
    "        if domain not in _APPROVED_DOMAINS:\n",
    "            raise ValueError(\n",
    "                f\"Domain {domain} is not on the approved list:\"\n",
    "                f\" {sorted(_APPROVED_DOMAINS)}\"\n",
    "            )\n",
    "        return values\n",
    "\n",
    "\n",
    "tool = RequestsGetTool(\n",
    "    args_schema=ToolInputSchema, requests_wrapper=TextRequestsWrapper()\n",
    ")"
   ]
  },
  {
   "cell_type": "code",
   "execution_count": null,
   "metadata": {},
   "outputs": [],
   "source": [
    "agent = initialize_agent(\n",
    "    [tool], llm, agent=AgentType.ZERO_SHOT_REACT_DESCRIPTION, verbose=False\n",
    ")"
   ]
  },
  {
   "cell_type": "code",
   "execution_count": null,
   "metadata": {},
   "outputs": [],
   "source": [
    "# This will succeed, since there aren't any arguments that will be triggered during validation\n",
    "answer = agent.run(\"What's the main title on langchain.com?\")\n",
    "print(answer)"
   ]
  },
  {
   "cell_type": "code",
   "execution_count": null,
   "metadata": {},
   "outputs": [],
   "source": [
    "agent.run(\"What's the main title on google.com?\")"
   ]
  },
  {
   "cell_type": "code",
   "execution_count": null,
   "metadata": {},
   "outputs": [],
   "source": [
    "answer = agent.run(\"What's the main title on wikipedia.com?\")\n",
    "print(answer)"
   ]
  },
  {
   "cell_type": "code",
   "execution_count": null,
   "metadata": {},
   "outputs": [],
   "source": []
  },
  {
   "cell_type": "code",
   "execution_count": null,
   "metadata": {},
   "outputs": [],
   "source": []
  },
  {
   "cell_type": "code",
   "execution_count": null,
   "metadata": {},
   "outputs": [],
   "source": []
  }
 ],
 "metadata": {
  "kernelspec": {
   "display_name": "Python 3.10.11 ('openai')",
   "language": "python",
   "name": "python3"
  },
  "language_info": {
   "codemirror_mode": {
    "name": "ipython",
    "version": 3
   },
   "file_extension": ".py",
   "mimetype": "text/x-python",
   "name": "python",
   "nbconvert_exporter": "python",
   "pygments_lexer": "ipython3",
   "version": "3.10.11"
  },
  "orig_nbformat": 4,
  "vscode": {
   "interpreter": {
    "hash": "382edab7741184ad6aa1b3bda453c7375fcc346d80c0b8f027407f5537ace097"
   }
  }
 },
 "nbformat": 4,
 "nbformat_minor": 2
}
