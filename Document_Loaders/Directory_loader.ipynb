{
 "cells": [
  {
   "cell_type": "code",
   "execution_count": null,
   "metadata": {},
   "outputs": [],
   "source": [
    "import os\n",
    "from dotenv import load_dotenv, find_dotenv\n",
    "_ = load_dotenv(find_dotenv()) # read local .env file\n",
    "\n",
    "file = os.environ['FILE_PATH']\n",
    "print(file)"
   ]
  },
  {
   "cell_type": "markdown",
   "metadata": {},
   "source": [
    "### DirectoryLoader: 用来加载一个文件夹内所有类型的文件，可以通过参数glob来指定文件类型,指定文件的格式就按：file_type = \"**/*.pdf\""
   ]
  },
  {
   "cell_type": "code",
   "execution_count": null,
   "metadata": {},
   "outputs": [],
   "source": [
    "from langchain.document_loaders import DirectoryLoader\n",
    "\n",
    "file_type = \"**/*.txt\"\n",
    "loader = DirectoryLoader(file, glob = file_type, show_progress=True)\n",
    "docs = loader.load()"
   ]
  },
  {
   "cell_type": "markdown",
   "metadata": {},
   "source": [
    "### Use multithreading： 加入多线程处理，加快处理速度"
   ]
  },
  {
   "cell_type": "code",
   "execution_count": null,
   "metadata": {},
   "outputs": [],
   "source": [
    "loader = DirectoryLoader(file, glob = file_type, use_multithreading=True)\n",
    "docs = loader.load()"
   ]
  },
  {
   "cell_type": "markdown",
   "metadata": {},
   "source": [
    "### 默认用的是UnstructuredLoader class,还可以通过loader_cls参数来指定loader的类型："
   ]
  },
  {
   "cell_type": "code",
   "execution_count": null,
   "metadata": {},
   "outputs": [],
   "source": [
    "#用TextLoader\n",
    "from langchain.document_loaders import TextLoader\n",
    "file_type = \"**/*.pdf\"\n",
    "loader = DirectoryLoader(file, glob = file_type, loader_cls=TextLoader)\n",
    "docs = loader.load()"
   ]
  },
  {
   "cell_type": "code",
   "execution_count": null,
   "metadata": {},
   "outputs": [],
   "source": [
    "print(docs[0])"
   ]
  },
  {
   "cell_type": "markdown",
   "metadata": {},
   "source": [
    "### 值得注意的是，指定loader类型后，任意一个文件加载失败，都将支导致整个加载过程失败，可通过Silent fail参数来跳过失败的文件，让加载过程继续完成。"
   ]
  },
  {
   "cell_type": "code",
   "execution_count": null,
   "metadata": {},
   "outputs": [],
   "source": [
    "file_type = \"**/*.pdf\"\n",
    "loader = DirectoryLoader(file, glob = file_type, loader_cls=TextLoader)\n",
    "docs = loader.load()"
   ]
  },
  {
   "cell_type": "code",
   "execution_count": 51,
   "metadata": {},
   "outputs": [
    {
     "name": "stderr",
     "output_type": "stream",
     "text": [
      "Error loading ..\\data\\8B3608368D6AA693562457E20559FE6C.pdf\n",
      "Error loading ..\\data\\field-guide-to-data-science.pdf\n",
      "Error loading ..\\data\\IntoThinAirBook.pdf\n"
     ]
    }
   ],
   "source": [
    "file_type = \"**/*.pdf\"\n",
    "loader = DirectoryLoader(file, glob = file_type, loader_cls=TextLoader, silent_errors=True)\n",
    "docs = loader.load()"
   ]
  },
  {
   "cell_type": "markdown",
   "metadata": {},
   "source": [
    "### 或者，可以通过autodetect_encoding参数，让text_loader在load之前先检查文件类型，直接跳过类型跟loader不匹配的文件："
   ]
  },
  {
   "cell_type": "code",
   "execution_count": 55,
   "metadata": {},
   "outputs": [],
   "source": [
    "text_loader_kwargs={'autodetect_encoding':True}\n",
    "file_type = \"**/*.txt\"\n",
    "loader = DirectoryLoader(file, glob = file_type, loader_cls=TextLoader, loader_kwargs=text_loader_kwargs)\n",
    "docs = loader.load()"
   ]
  },
  {
   "cell_type": "code",
   "execution_count": null,
   "metadata": {},
   "outputs": [],
   "source": [
    "#PythonLoader\n",
    "from langchain.document_loaders import PythonLoader\n",
    "file_type = \"**/*.py\"\n",
    "loader = DirectoryLoader(file, glob = file_type, loader_cls=PythonLoader)\n",
    "docs = loader.load()"
   ]
  },
  {
   "cell_type": "code",
   "execution_count": null,
   "metadata": {},
   "outputs": [],
   "source": [
    "print(docs[0])"
   ]
  },
  {
   "cell_type": "code",
   "execution_count": null,
   "metadata": {},
   "outputs": [],
   "source": []
  }
 ],
 "metadata": {
  "kernelspec": {
   "display_name": "Python 3.10.11 ('openai')",
   "language": "python",
   "name": "python3"
  },
  "language_info": {
   "codemirror_mode": {
    "name": "ipython",
    "version": 3
   },
   "file_extension": ".py",
   "mimetype": "text/x-python",
   "name": "python",
   "nbconvert_exporter": "python",
   "pygments_lexer": "ipython3",
   "version": "3.10.11"
  },
  "orig_nbformat": 4,
  "vscode": {
   "interpreter": {
    "hash": "382edab7741184ad6aa1b3bda453c7375fcc346d80c0b8f027407f5537ace097"
   }
  }
 },
 "nbformat": 4,
 "nbformat_minor": 2
}
