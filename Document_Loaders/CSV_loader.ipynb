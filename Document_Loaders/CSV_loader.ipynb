{
 "cells": [
  {
   "cell_type": "code",
   "execution_count": 2,
   "metadata": {},
   "outputs": [
    {
     "name": "stdout",
     "output_type": "stream",
     "text": [
      "../data/\n"
     ]
    }
   ],
   "source": [
    "import os\n",
    "from dotenv import load_dotenv, find_dotenv\n",
    "_ = load_dotenv(find_dotenv()) # read local .env file\n",
    "file =  os.environ[\"FILE_PATH\"]\n",
    "print(file)"
   ]
  },
  {
   "cell_type": "markdown",
   "metadata": {},
   "source": [
    "### 普通的CSV loader:"
   ]
  },
  {
   "cell_type": "code",
   "execution_count": 3,
   "metadata": {},
   "outputs": [],
   "source": [
    "from langchain.document_loaders import CSVLoader\n",
    "\n",
    "loader = CSVLoader(file_path=file+\"LinkedInIndustries.csv\")\n",
    "data = loader.load()"
   ]
  },
  {
   "cell_type": "code",
   "execution_count": 9,
   "metadata": {},
   "outputs": [
    {
     "name": "stdout",
     "output_type": "stream",
     "text": [
      "page_content='Product: Waterproof Phone Pouch\\nReview: I loved the waterproof sac, although the opening was made of a hard plastic. I donâ€™t know if that would break easily. But I couldnâ€™t turn my phone on, once it was in the pouch.' metadata={'source': '../data/data.csv', 'row': 2}\n"
     ]
    }
   ],
   "source": [
    "print(data[2])"
   ]
  },
  {
   "cell_type": "markdown",
   "metadata": {},
   "source": [
    "### 自定义CSV解析和加载："
   ]
  },
  {
   "cell_type": "code",
   "execution_count": 4,
   "metadata": {},
   "outputs": [],
   "source": [
    "loader = CSVLoader(file_path=file+\"data.csv\", csv_args={\n",
    "    'delimiter':',',\n",
    "    'quotechar':'\"',\n",
    "    'fieldnames':['Product','Review']\n",
    "})\n",
    "\n",
    "data = loader.load()"
   ]
  },
  {
   "cell_type": "code",
   "execution_count": 7,
   "metadata": {},
   "outputs": [
    {
     "name": "stdout",
     "output_type": "stream",
     "text": [
      "page_content='Product: Waterproof Phone Pouch\\nReview: I loved the waterproof sac, although the opening was made of a hard plastic. I donâ€™t know if that would break easily. But I couldnâ€™t turn my phone on, once it was in the pouch.' metadata={'source': '../data/data.csv', 'row': 2}\n"
     ]
    }
   ],
   "source": [
    "print(data[2])"
   ]
  },
  {
   "cell_type": "code",
   "execution_count": 10,
   "metadata": {},
   "outputs": [],
   "source": [
    "loader = CSVLoader(file_path=file+\"data.csv\", source_column=\"Product\",)\n",
    "\n",
    "data = loader.load()"
   ]
  },
  {
   "cell_type": "code",
   "execution_count": 14,
   "metadata": {},
   "outputs": [
    {
     "name": "stdout",
     "output_type": "stream",
     "text": [
      "[Document(page_content='Product: Queen Size Sheet Set\\nReview: I ordered a king size set. My only criticism would be that I wish seller would offer the king size set with 4 pillowcases. I separately ordered a two pack of pillowcases so I could have a total of four. When I saw the two packages, it looked like the color did not exactly match. Customer service was excellent about sending me two more pillowcases so I would have four that matched. Excellent! For the cost of these sheets, I am satisfied with the characteristics and coolness of the sheets.', metadata={'source': 'Queen Size Sheet Set', 'row': 0}), Document(page_content='Product: Waterproof Phone Pouch\\nReview: I loved the waterproof sac, although the opening was made of a hard plastic. I donâ€™t know if that would break easily. But I couldnâ€™t turn my phone on, once it was in the pouch.', metadata={'source': 'Waterproof Phone Pouch', 'row': 1}), Document(page_content=\"Product: Luxury Air Mattress\\nReview: This mattress had a small hole in the top of it (took forever to find where it was), and the patches that they provide did not work, maybe because it's the top of the mattress where it's kind of like fabric and a patch won't stick. Maybe I got unlucky with a defective mattress, but where's quality assurance for this company? That flat out should not happen. Emphasis on flat. Cause that's what the mattress was. Seriously horrible experience, ruined my friend's stay with me. Then they make you ship it back instead of just providing a refund, which is also super annoying to pack up an air mattress and take it to the UPS store. This company is the worst, and this mattress is the worst.\", metadata={'source': 'Luxury Air Mattress', 'row': 2}), Document(page_content='Product: Pillows Insert\\nReview: This is the best throw pillow fillers on Amazon. Iâ€™ve tried several others, and theyâ€™re all cheap and flat no matter how much fluffing you do. Once you toss these in the dryer after you remove them from the vacuum sealed shipping material, they fluff up great', metadata={'source': 'Pillows Insert', 'row': 3}), Document(page_content=\"Product: Milk Frother Handheld\\nReview: Â\\xa0I loved this product. But they only seem to last a few months. The company was great replacing the first one (the frother falls out of the handle and can't be fixed). The after 4 months my second one did the same. I only use the frother for coffee once a day. It's not overuse or abuse. I'm very disappointed and will look for another. As I understand they will only replace once. Anyway, if you have one good luck.\", metadata={'source': 'Milk Frother Handheld\\n', 'row': 4}), Document(page_content=\"Product: L'Or Espresso CafÃ©Â\\nReview: Je trouve le goÃ»t mÃ©diocre. La mousse ne tient pas, c'est bizarre. J'achÃ¨te les mÃªmes dans le commerce et le goÃ»t est bien meilleur...\\nVieux lot ou contrefaÃ§on !?\", metadata={'source': \"L'Or Espresso CafÃ©Â\\xa0\\n\", 'row': 5}), Document(page_content='Product: Hervidor de Agua ElÃ©ctrico\\nReview: EstÃ¡ lu bonita calienta muy rÃ¡pido, es muy funcional, solo falta ver cuÃ¡nto dura, solo llevo 3 dÃ\\xadas en funcionamiento.', metadata={'source': 'Hervidor de Agua ElÃ©ctrico', 'row': 6})]\n"
     ]
    }
   ],
   "source": [
    "print(data)"
   ]
  },
  {
   "cell_type": "code",
   "execution_count": null,
   "metadata": {},
   "outputs": [],
   "source": []
  }
 ],
 "metadata": {
  "kernelspec": {
   "display_name": "Python 3.10.11 ('openai')",
   "language": "python",
   "name": "python3"
  },
  "language_info": {
   "codemirror_mode": {
    "name": "ipython",
    "version": 3
   },
   "file_extension": ".py",
   "mimetype": "text/x-python",
   "name": "python",
   "nbconvert_exporter": "python",
   "pygments_lexer": "ipython3",
   "version": "3.10.11"
  },
  "orig_nbformat": 4,
  "vscode": {
   "interpreter": {
    "hash": "382edab7741184ad6aa1b3bda453c7375fcc346d80c0b8f027407f5537ace097"
   }
  }
 },
 "nbformat": 4,
 "nbformat_minor": 2
}
