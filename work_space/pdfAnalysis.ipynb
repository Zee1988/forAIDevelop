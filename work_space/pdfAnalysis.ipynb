{
 "cells": [
  {
   "cell_type": "code",
   "execution_count": null,
   "metadata": {},
   "outputs": [],
   "source": [
    "import os\n",
    "import openai\n",
    "from langchain.document_loaders import UnstructuredPDFLoader, OnlinePDFLoader, PyPDFLoader\n",
    "from langchain.text_splitter import RecursiveCharacterTextSplitter\n",
    "from langchain.vectorstores import chroma, Pinecone\n",
    "import pinecone\n",
    "from langchain.embeddings.openai import OpenAIEmbeddings\n",
    "from dotenv import load_dotenv, find_dotenv\n",
    "from langchain.llms import OpenAI\n",
    "from langchain.chains.question_answering import load_qa_chain\n",
    "from IPython.display import display, Markdown\n",
    "from langchain.chat_models import ChatOpenAI\n",
    "from langchain.prompts import ChatPromptTemplate\n",
    "from langchain.chains import LLMChain\n",
    "\n",
    "\n",
    "_ = load_dotenv(find_dotenv()) # read local .env file\n",
    "#openai key\n",
    "openai.api_key = os.environ['OPENAI_API_KEY']\n",
    "openai.model_name = os.environ['FAST_LLM_MODEL']\n",
    "print(openai.model_name)"
   ]
  },
  {
   "cell_type": "code",
   "execution_count": null,
   "metadata": {},
   "outputs": [],
   "source": [
    "loader = PyPDFLoader(\"../data/8B3608368D6AA693562457E20559FE6C.pdf\")"
   ]
  },
  {
   "cell_type": "code",
   "execution_count": null,
   "metadata": {},
   "outputs": [],
   "source": [
    "data = loader.load()"
   ]
  },
  {
   "cell_type": "code",
   "execution_count": 139,
   "metadata": {},
   "outputs": [],
   "source": [
    "text_splitter = RecursiveCharacterTextSplitter(chunk_size=2000, chunk_overlap=0)\n",
    "texts = text_splitter.split_documents(data)"
   ]
  },
  {
   "cell_type": "code",
   "execution_count": 140,
   "metadata": {},
   "outputs": [],
   "source": [
    "embeddings = OpenAIEmbeddings()"
   ]
  },
  {
   "cell_type": "code",
   "execution_count": null,
   "metadata": {},
   "outputs": [],
   "source": [
    "#init pinecone\n",
    "pinecone.init(\n",
    "    api_key=os.environ['PINECONE_API_KEY'],\n",
    "    environment=os.environ['PINECONE_ENV'])\n",
    "index_name = \"pdftest\"\n",
    "pinecone.create_index(\"pdftest2\", dimension=1536, metric=\"euclidean\")\n",
    "#pinecone.list_indexes()"
   ]
  },
  {
   "cell_type": "code",
   "execution_count": null,
   "metadata": {},
   "outputs": [],
   "source": [
    "docsearch = Pinecone.from_texts([t.page_content for t in texts], embeddings, index_name=index_name)"
   ]
  },
  {
   "cell_type": "code",
   "execution_count": 147,
   "metadata": {},
   "outputs": [
    {
     "name": "stdout",
     "output_type": "stream",
     "text": [
      "page_content='1-1-25 搭建公司产品架 构，并向其关键零部件进口替代进行应用物理的深入研发。与\\n此同时，充分发挥自身的竞争优势，积极探索新技术、新产品，把握行业发展\\n趋势，不断进行技术创新和产品革新，为客户提供更加符合其发展目标、多元\\n化的智能制造解决方案，立足于自主研发、掌握核心科技，力争成为全球领先\\n的智能制造高端装备供应商。  \\n1、锂离子电池生产设备及其关键零部件领域  \\n在锂电池干燥设备领域，公司将继续保持竞争优势，不断进行技术革新，\\n未来三年内，公司将开发智能式冷热液流高真空烤箱和智能高效小单元式烘烤\\n线并向市场推广，实现该领域的全自动完全无人化，将大幅 提升烘烤效率、降\\n低运营成本。  \\n在锂电池涂布设备领域，公司目前已采用了先进的高精度单向双面挤压涂\\n布技术，大大提升了涂布效率及均匀性。在未来，公司将继续发挥该领域的技\\n术优势，开发符合行业发展趋势的微孔基材双面挤压涂布机及电极干法涂布机。  \\n在锂电池辊压、分切设备领域，公司已开发出全自动高速辊压分切一体设\\n备，未来将继续推进该领域自动化程度、生产效率的不断提升。  \\n在锂电设备关键零部件领域，公司利用精密高速涂布模头技术开发的高精\\n密挤压模头已具备行业领先水平，未来将大力推进该领域的产业化，实现该领\\n域的进口替代。  \\n2、其他自动化设备领域  \\n在其他自动化设备领域，公司将持续开拓光电设备、医疗用品设备、光学\\n膜、氢燃料电池市场，不断在新的领域提升核心竞争力及市场占有率，拓展公\\n司业绩新的增长点。  \\n以上具体情况参见本招股说明书 “第七节 募集资金运用与未来发展规划 ”。 \\n十一、其他对发行人有重大影响的事项  \\n截至本招股说明书签署日，发行人不存在其他有重大影响的事项。' metadata={}\n",
      "page_content='1-1-25 搭建公司产品架 构，并向其关键零部件进口替代进行应用物理的深入研发。与\\n此同时，充分发挥自身的竞争优势，积极探索新技术、新产品，把握行业发展\\n趋势，不断进行技术创新和产品革新，为客户提供更加符合其发展目标、多元\\n化的智能制造解决方案，立足于自主研发、掌握核心科技，力争成为全球领先\\n的智能制造高端装备供应商。  \\n1、锂离子电池生产设备及其关键零部件领域  \\n在锂电池干燥设备领域，公司将继续保持竞争优势，不断进行技术革新，\\n未来三年内，公司将开发智能式冷热液流高真空烤箱和智能高效小单元式烘烤\\n线并向市场推广，实现该领域的全自动完全无人化，将大幅 提升烘烤效率、降\\n低运营成本。  \\n在锂电池涂布设备领域，公司目前已采用了先进的高精度单向双面挤压涂\\n布技术，大大提升了涂布效率及均匀性。在未来，公司将继续发挥该领域的技\\n术优势，开发符合行业发展趋势的微孔基材双面挤压涂布机及电极干法涂布机。  \\n在锂电池辊压、分切设备领域，公司已开发出全自动高速辊压分切一体设\\n备，未来将继续推进该领域自动化程度、生产效率的不断提升。  \\n在锂电设备关键零部件领域，公司利用精密高速涂布模头技术开发的高精\\n密挤压模头已具备行业领先水平，未来将大力推进该领域的产业化，实现该领\\n域的进口替代。  \\n2、其他自动化设备领域  \\n在其他自动化设备领域，公司将持续开拓光电设备、医疗用品设备、光学\\n膜、氢燃料电池市场，不断在新的领域提升核心竞争力及市场占有率，拓展公\\n司业绩新的增长点。  \\n以上具体情况参见本招股说明书 “第七节 募集资金运用与未来发展规划 ”。 \\n十一、其他对发行人有重大影响的事项  \\n截至本招股说明书签署日，发行人不存在其他有重大影响的事项。' metadata={}\n",
      "page_content='1-1-25 搭建公司产品架 构，并向其关键零部件进口替代进行应用物理的深入研发。与\\n此同时，充分发挥自身的竞争优势，积极探索新技术、新产品，把握行业发展\\n趋势，不断进行技术创新和产品革新，为客户提供更加符合其发展目标、多元\\n化的智能制造解决方案，立足于自主研发、掌握核心科技，力争成为全球领先\\n的智能制造高端装备供应商。  \\n1、锂离子电池生产设备及其关键零部件领域  \\n在锂电池干燥设备领域，公司将继续保持竞争优势，不断进行技术革新，\\n未来三年内，公司将开发智能式冷热液流高真空烤箱和智能高效小单元式烘烤\\n线并向市场推广，实现该领域的全自动完全无人化，将大幅 提升烘烤效率、降\\n低运营成本。  \\n在锂电池涂布设备领域，公司目前已采用了先进的高精度单向双面挤压涂\\n布技术，大大提升了涂布效率及均匀性。在未来，公司将继续发挥该领域的技\\n术优势，开发符合行业发展趋势的微孔基材双面挤压涂布机及电极干法涂布机。  \\n在锂电池辊压、分切设备领域，公司已开发出全自动高速辊压分切一体设\\n备，未来将继续推进该领域自动化程度、生产效率的不断提升。  \\n在锂电设备关键零部件领域，公司利用精密高速涂布模头技术开发的高精\\n密挤压模头已具备行业领先水平，未来将大力推进该领域的产业化，实现该领\\n域的进口替代。  \\n2、其他自动化设备领域  \\n在其他自动化设备领域，公司将持续开拓光电设备、医疗用品设备、光学\\n膜、氢燃料电池市场，不断在新的领域提升核心竞争力及市场占有率，拓展公\\n司业绩新的增长点。  \\n以上具体情况参见本招股说明书 “第七节 募集资金运用与未来发展规划 ”。 \\n十一、其他对发行人有重大影响的事项  \\n截至本招股说明书签署日，发行人不存在其他有重大影响的事项。' metadata={}\n",
      "page_content='1-1-25 搭建公司产品架 构，并向其关键零部件进口替代进行应用物理的深入研发。与\\n此同时，充分发挥自身的竞争优势，积极探索新技术、新产品，把握行业发展\\n趋势，不断进行技术创新和产品革新，为客户提供更加符合其发展目标、多元\\n化的智能制造解决方案，立足于自主研发、掌握核心科技，力争成为全球领先\\n的智能制造高端装备供应商。  \\n1、锂离子电池生产设备及其关键零部件领域  \\n在锂电池干燥设备领域，公司将继续保持竞争优势，不断进行技术革新，\\n未来三年内，公司将开发智能式冷热液流高真空烤箱和智能高效小单元式烘烤\\n线并向市场推广，实现该领域的全自动完全无人化，将大幅 提升烘烤效率、降\\n低运营成本。  \\n在锂电池涂布设备领域，公司目前已采用了先进的高精度单向双面挤压涂\\n布技术，大大提升了涂布效率及均匀性。在未来，公司将继续发挥该领域的技\\n术优势，开发符合行业发展趋势的微孔基材双面挤压涂布机及电极干法涂布机。  \\n在锂电池辊压、分切设备领域，公司已开发出全自动高速辊压分切一体设\\n备，未来将继续推进该领域自动化程度、生产效率的不断提升。  \\n在锂电设备关键零部件领域，公司利用精密高速涂布模头技术开发的高精\\n密挤压模头已具备行业领先水平，未来将大力推进该领域的产业化，实现该领\\n域的进口替代。  \\n2、其他自动化设备领域  \\n在其他自动化设备领域，公司将持续开拓光电设备、医疗用品设备、光学\\n膜、氢燃料电池市场，不断在新的领域提升核心竞争力及市场占有率，拓展公\\n司业绩新的增长点。  \\n以上具体情况参见本招股说明书 “第七节 募集资金运用与未来发展规划 ”。 \\n十一、其他对发行人有重大影响的事项  \\n截至本招股说明书签署日，发行人不存在其他有重大影响的事项。' metadata={}\n"
     ]
    }
   ],
   "source": [
    "query = \"这家公司的生产的设备有哪些？\"\n",
    "docs = docsearch.similarity_search(query)\n",
    "#print(docs[0])\n",
    "for t in docs:\n",
    "    print(t)"
   ]
  },
  {
   "cell_type": "code",
   "execution_count": null,
   "metadata": {},
   "outputs": [],
   "source": [
    "template = ChatPromptTemplate.from_template(\n",
    "    \"This is a listing prospectus, suppose you a Stock investor,\\\n",
    "    Base on the information the information below:\\\n",
    "    {docs}, you need to find out the detial information \\\n",
    "     to answer the quetion of {query}\\\n",
    "     then output the anser in Chinese. NOte that, Do not summary \\\n",
    "     the information you found , but list the detail of them. \\\n",
    "     finally, output the answer in Chinese.\"\n",
    ")\n",
    "print(template)"
   ]
  },
  {
   "cell_type": "code",
   "execution_count": null,
   "metadata": {},
   "outputs": [],
   "source": [
    "llm = OpenAI(model_name=\"gpt-3.5-turbo-0613\",temperature=0.0)\n",
    "chain = load_qa_chain(llm, chain_type=\"stuff\")"
   ]
  },
  {
   "cell_type": "code",
   "execution_count": null,
   "metadata": {},
   "outputs": [],
   "source": [
    "response = chain.run(input_documents=docs, question=query, template = template)\n",
    "display(Markdown(response))"
   ]
  }
 ],
 "metadata": {
  "kernelspec": {
   "display_name": "Python 3.10.11 ('openai')",
   "language": "python",
   "name": "python3"
  },
  "language_info": {
   "codemirror_mode": {
    "name": "ipython",
    "version": 3
   },
   "file_extension": ".py",
   "mimetype": "text/x-python",
   "name": "python",
   "nbconvert_exporter": "python",
   "pygments_lexer": "ipython3",
   "version": "3.10.11"
  },
  "orig_nbformat": 4,
  "vscode": {
   "interpreter": {
    "hash": "382edab7741184ad6aa1b3bda453c7375fcc346d80c0b8f027407f5537ace097"
   }
  }
 },
 "nbformat": 4,
 "nbformat_minor": 2
}
