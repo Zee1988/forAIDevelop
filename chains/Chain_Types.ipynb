{
 "cells": [
  {
   "cell_type": "code",
   "execution_count": null,
   "id": "e5490ab7",
   "metadata": {},
   "outputs": [],
   "source": [
    "from langchain.document_loaders import UnstructuredFileLoader\n",
    "from langchain.chains.summarize import load_summarize_chain\n",
    "from langchain.chains.question_answering import load_qa_chain"
   ]
  },
  {
   "attachments": {},
   "cell_type": "markdown",
   "id": "37d300f1",
   "metadata": {},
   "source": [
    "### Load Documents"
   ]
  },
  {
   "cell_type": "code",
   "execution_count": null,
   "id": "b2b457c7",
   "metadata": {},
   "outputs": [],
   "source": [
    "sm_loader = UnstructuredFileLoader(\"../data/muir_lake_tahoe_in_winter.txt\")\n",
    "sm_doc = sm_loader.load()\n",
    "\n",
    "lg_loader = UnstructuredFileLoader(\"../data/PaulGrahamEssays/worked.txt\")\n",
    "lg_doc = lg_loader.load()"
   ]
  },
  {
   "cell_type": "code",
   "execution_count": null,
   "id": "10ff8c9c",
   "metadata": {},
   "outputs": [],
   "source": [
    "def doc_summary(docs):\n",
    "    print (f'You have {len(docs)} document(s)')\n",
    "    \n",
    "    num_words = sum([len(doc.page_content.split(' ')) for doc in docs])\n",
    "    \n",
    "    print (f'You have roughly {num_words} words in your docs')\n",
    "    print ()\n",
    "    print (f'Preview: \\n{docs[0].page_content.split(\". \")[0]}')"
   ]
  },
  {
   "cell_type": "code",
   "execution_count": null,
   "id": "9b92effa",
   "metadata": {},
   "outputs": [],
   "source": [
    "doc_summary(sm_doc)"
   ]
  },
  {
   "cell_type": "code",
   "execution_count": null,
   "id": "fa39e1b8",
   "metadata": {},
   "outputs": [],
   "source": [
    "doc_summary(lg_doc)"
   ]
  },
  {
   "attachments": {},
   "cell_type": "markdown",
   "id": "3d922dfa",
   "metadata": {},
   "source": [
    "### Load Your LLM"
   ]
  },
  {
   "cell_type": "code",
   "execution_count": null,
   "id": "daf7e272",
   "metadata": {},
   "outputs": [],
   "source": [
    "from langchain import OpenAI"
   ]
  },
  {
   "cell_type": "code",
   "execution_count": null,
   "id": "e6b576c6",
   "metadata": {
    "hide_input": false
   },
   "outputs": [],
   "source": [
    "OPENAI_API_KEY = '...'"
   ]
  },
  {
   "cell_type": "code",
   "execution_count": null,
   "id": "182a2951",
   "metadata": {},
   "outputs": [],
   "source": [
    "llm = OpenAI(openai_api_key=OPENAI_API_KEY)"
   ]
  },
  {
   "attachments": {},
   "cell_type": "markdown",
   "id": "f6515044",
   "metadata": {},
   "source": [
    "### Summarize: Stuff"
   ]
  },
  {
   "cell_type": "code",
   "execution_count": null,
   "id": "020b276d",
   "metadata": {},
   "outputs": [],
   "source": [
    "chain = load_summarize_chain(llm, chain_type=\"stuff\", verbose=True)"
   ]
  },
  {
   "cell_type": "code",
   "execution_count": null,
   "id": "1ee5d17f",
   "metadata": {
    "collapsed": true
   },
   "outputs": [],
   "source": [
    "chain.run(sm_doc)"
   ]
  },
  {
   "cell_type": "code",
   "execution_count": null,
   "id": "3e3add98",
   "metadata": {},
   "outputs": [],
   "source": [
    "chain.run(lg_doc)"
   ]
  },
  {
   "attachments": {},
   "cell_type": "markdown",
   "id": "c7bc1482",
   "metadata": {},
   "source": [
    "### Summarize: Map Reduce"
   ]
  },
  {
   "cell_type": "code",
   "execution_count": null,
   "id": "6819d5c1",
   "metadata": {},
   "outputs": [],
   "source": [
    "chain = load_summarize_chain(llm, chain_type=\"map_reduce\", verbose=True)"
   ]
  },
  {
   "cell_type": "code",
   "execution_count": null,
   "id": "57ad190a",
   "metadata": {},
   "outputs": [],
   "source": [
    "chain.run(sm_doc)"
   ]
  },
  {
   "cell_type": "code",
   "execution_count": null,
   "id": "4898d986",
   "metadata": {},
   "outputs": [],
   "source": [
    "from langchain.text_splitter import RecursiveCharacterTextSplitter"
   ]
  },
  {
   "cell_type": "code",
   "execution_count": null,
   "id": "20a994e7",
   "metadata": {},
   "outputs": [],
   "source": [
    "text_splitter = RecursiveCharacterTextSplitter(\n",
    "    # Set a really small chunk size, just to show.\n",
    "    chunk_size = 400,\n",
    "    chunk_overlap = 0\n",
    ")"
   ]
  },
  {
   "cell_type": "code",
   "execution_count": null,
   "id": "877728d9",
   "metadata": {},
   "outputs": [],
   "source": [
    "lg_docs = text_splitter.split_documents(lg_doc)"
   ]
  },
  {
   "cell_type": "code",
   "execution_count": null,
   "id": "5ad8f7b3",
   "metadata": {},
   "outputs": [],
   "source": [
    "doc_summary(lg_docs)"
   ]
  },
  {
   "cell_type": "code",
   "execution_count": null,
   "id": "682900fc",
   "metadata": {},
   "outputs": [],
   "source": [
    "chain.run(lg_docs[:5])"
   ]
  },
  {
   "attachments": {},
   "cell_type": "markdown",
   "id": "a1b99505",
   "metadata": {},
   "source": [
    "### Summarize: Refine"
   ]
  },
  {
   "cell_type": "code",
   "execution_count": null,
   "id": "49b2dbfe",
   "metadata": {},
   "outputs": [],
   "source": [
    "chain = load_summarize_chain(llm, chain_type=\"refine\", verbose=True)"
   ]
  },
  {
   "cell_type": "code",
   "execution_count": null,
   "id": "efadaf1b",
   "metadata": {},
   "outputs": [],
   "source": [
    "chain.run(lg_docs[:5])"
   ]
  },
  {
   "attachments": {},
   "cell_type": "markdown",
   "id": "1c6962c2",
   "metadata": {},
   "source": [
    "### Q&A: Map Re-Rank"
   ]
  },
  {
   "cell_type": "code",
   "execution_count": null,
   "id": "ba864773",
   "metadata": {},
   "outputs": [],
   "source": [
    "chain = load_qa_chain(llm, chain_type=\"map_rerank\", verbose=True, return_intermediate_steps=True)"
   ]
  },
  {
   "cell_type": "code",
   "execution_count": null,
   "id": "6aa32765",
   "metadata": {},
   "outputs": [],
   "source": [
    "query = \"Who was the authors friend who he got permission from to use the IBM 1401?\"\n",
    "\n",
    "result = chain({\"input_documents\": lg_docs[:5], \"question\": query}, return_only_outputs=True)"
   ]
  },
  {
   "cell_type": "code",
   "execution_count": null,
   "id": "32ca3629",
   "metadata": {},
   "outputs": [],
   "source": [
    "result['output_text']"
   ]
  },
  {
   "cell_type": "code",
   "execution_count": null,
   "id": "6541e14c",
   "metadata": {},
   "outputs": [],
   "source": [
    "result['intermediate_steps']"
   ]
  },
  {
   "cell_type": "code",
   "execution_count": null,
   "id": "be60b4e8",
   "metadata": {},
   "outputs": [],
   "source": []
  }
 ],
 "metadata": {
  "kernelspec": {
   "display_name": "Python 3.10.11 ('openai')",
   "language": "python",
   "name": "python3"
  },
  "language_info": {
   "codemirror_mode": {
    "name": "ipython",
    "version": 3
   },
   "file_extension": ".py",
   "mimetype": "text/x-python",
   "name": "python",
   "nbconvert_exporter": "python",
   "pygments_lexer": "ipython3",
   "version": "3.10.11"
  },
  "vscode": {
   "interpreter": {
    "hash": "382edab7741184ad6aa1b3bda453c7375fcc346d80c0b8f027407f5537ace097"
   }
  }
 },
 "nbformat": 4,
 "nbformat_minor": 5
}
