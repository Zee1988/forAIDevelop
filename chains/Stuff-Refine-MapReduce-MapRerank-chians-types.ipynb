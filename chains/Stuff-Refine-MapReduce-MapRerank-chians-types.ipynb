{
 "cells": [
  {
   "cell_type": "markdown",
   "metadata": {},
   "source": [
    "### Stuff:\n",
    "材料文档链(“材料”在“填充”或“填充”中)是文档链中最直接的。它获取一个文档列表，将它们全部插入到提示符中，并将该提示符传递给LLM。\n",
    "此链非常适合文档较小且大多数调用只传递少量文档的应用程序。\n",
    "https://python.langchain.com/docs/modules/chains/document/stuff"
   ]
  },
  {
   "cell_type": "markdown",
   "metadata": {},
   "source": [
    "### Refine:\n",
    "细化文档链通过循环遍历输入文档并迭代更新其答案来构造响应。对于每个文档，它将所有非文档输入、当前文档和最新的中间答案传递给LLM链，以获得新答案。由于Refine链一次只向LLM传递一个文档，因此它非常适合需要分析超出模型上下文范围的文档的任务。明显的权衡是，这个链将比Stuff文档链调用更多的LLM。还有一些任务很难迭代完成。例如，当文档经常相互交叉引用时，或者当任务需要来自许多文档的详细信息时，Refine链的性能可能会很差。\n",
    "https://python.langchain.com/docs/modules/chains/document/refine"
   ]
  },
  {
   "cell_type": "markdown",
   "metadata": {},
   "source": [
    "### Map reduce:\n",
    "mapreduce文档链首先对每个文档单独应用LLM链(map步骤)，将链输出作为新文档处理。然后，它将所有新文档传递给单独的组合文档链以获得单个输出(Reduce步骤)。它可以选择首先压缩或折叠映射的文档，以确保它们适合组合文档链(通常会将它们传递给LLM)。如有必要，此压缩步骤将递归执行。\n",
    "https://python.langchain.com/docs/modules/chains/document/map_reduce"
   ]
  },
  {
   "cell_type": "markdown",
   "metadata": {},
   "source": [
    "#### Map re-rank:\n",
    "map - re-rank文档链在每个文档上运行一个初始提示，它不仅尝试完成任务，而且还对其答案的确定程度进行评分。返回得分最高的响应。\n",
    "https://python.langchain.com/docs/modules/chains/document/map_rerank"
   ]
  },
  {
   "cell_type": "markdown",
   "metadata": {},
   "source": []
  }
 ],
 "metadata": {
  "kernelspec": {
   "display_name": "Python 3.10.11 ('openai')",
   "language": "python",
   "name": "python3"
  },
  "language_info": {
   "name": "python",
   "version": "3.10.11"
  },
  "orig_nbformat": 4,
  "vscode": {
   "interpreter": {
    "hash": "382edab7741184ad6aa1b3bda453c7375fcc346d80c0b8f027407f5537ace097"
   }
  }
 },
 "nbformat": 4,
 "nbformat_minor": 2
}
