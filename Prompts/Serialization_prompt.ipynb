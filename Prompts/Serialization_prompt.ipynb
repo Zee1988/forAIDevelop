{
 "cells": [
  {
   "cell_type": "markdown",
   "metadata": {},
   "source": [
    "### 通常最好将提示存储为文件而不是python代码。这可以使共享、存储和版本提示变得容易。\n",
    "在高层次上，以下设计原则应用于序列化:\n",
    "\n",
    "同时支持JSON和YAML。我们希望支持人类在磁盘上可读的序列化方法，而YAML和JSON是最流行的两种方法。注意，此规则适用于提示。对于其他资产，如示例，可能支持不同的序列化方法。\n",
    "\n",
    "我们支持在一个文件中指定所有内容，或者在不同的文件中存储不同的组件(模板、示例等)并引用它们。对于某些情况，将所有内容存储在文件中是最有意义的，但对于其他情况，最好将一些资产(长模板、大型示例、可重用组件)分开。LangChain两者都支持。\n",
    "\n",
    "还有一个从磁盘加载提示的入口点，使得加载任何类型的提示都很容易。"
   ]
  },
  {
   "cell_type": "code",
   "execution_count": null,
   "metadata": {},
   "outputs": [],
   "source": [
    "# All prompts are loaded through the `load_prompt` function.\n",
    "from langchain.prompts import load_prompt"
   ]
  },
  {
   "cell_type": "code",
   "execution_count": null,
   "metadata": {},
   "outputs": [],
   "source": []
  },
  {
   "cell_type": "code",
   "execution_count": null,
   "metadata": {},
   "outputs": [],
   "source": []
  }
 ],
 "metadata": {
  "kernelspec": {
   "display_name": "Python 3.10.11 ('openai')",
   "language": "python",
   "name": "python3"
  },
  "language_info": {
   "name": "python",
   "version": "3.10.11"
  },
  "orig_nbformat": 4,
  "vscode": {
   "interpreter": {
    "hash": "382edab7741184ad6aa1b3bda453c7375fcc346d80c0b8f027407f5537ace097"
   }
  }
 },
 "nbformat": 4,
 "nbformat_minor": 2
}
