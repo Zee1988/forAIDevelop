{
 "cells": [
  {
   "attachments": {},
   "cell_type": "markdown",
   "metadata": {},
   "source": [
    "#### 通常最好将提示存储为文件而不是python代码。这可以使共享、存储和版本提示变得容易。\n",
    "#### 在高层次上，以下设计原则应用于序列化:\n",
    "\n",
    "#### 同时支持JSON和YAML。我们希望支持人类在磁盘上可读的序列化方法，而YAML和JSON是最流行的两种方法。注意，此规则适用于prompt。对于其他资产，如示例，可能支持不同的序列化方法。\n",
    "\n",
    "#### 我们支持在一个文件中指定所有内容，或者在不同的文件中存储不同的组件(模板、示例等)并引用它们。对于某些情况，将所有内容存储在文件中是最有意义的，但对于其他情况，最好将一些资产(长模板、大型示例、可重用组件)分开。LangChain两者都支持。\n",
    "\n",
    "#### 还有一个从磁盘加载提示的入口点，使得加载任何类型的提示都很容易。"
   ]
  },
  {
   "cell_type": "code",
   "execution_count": 2,
   "metadata": {},
   "outputs": [],
   "source": [
    "# All prompts are loaded through the `load_prompt` function.\n",
    "from langchain.prompts import load_prompt"
   ]
  },
  {
   "attachments": {},
   "cell_type": "markdown",
   "metadata": {},
   "source": [
    "### Loading from JSON"
   ]
  },
  {
   "cell_type": "code",
   "execution_count": 3,
   "metadata": {},
   "outputs": [
    {
     "name": "stdout",
     "output_type": "stream",
     "text": [
      "    Tell me a funny joke about chickens.\n"
     ]
    }
   ],
   "source": [
    "# 注意，这里的json文件是存储prompt_template的描述信息的，在它里面会引用真正的template文件。直接load_prompt，然后用format传实参即可。\n",
    "prompt = load_prompt(\"./prompts/test.json\")\n",
    "print(prompt.format(adjective=\"funny\", content=\"chickens\"))"
   ]
  },
  {
   "attachments": {},
   "cell_type": "markdown",
   "metadata": {},
   "source": [
    "### Loading Template from a file: 注意，文件路径一定要正确！"
   ]
  },
  {
   "cell_type": "code",
   "execution_count": 24,
   "metadata": {},
   "outputs": [
    {
     "name": "stdout",
     "output_type": "stream",
     "text": [
      "    Tell me a funny joke about chickens.\n"
     ]
    }
   ],
   "source": [
    "prompt = load_prompt(\"./prompts/test.json\")\n",
    "print(prompt.format(adjective=\"funny\", content=\"chickens\"))"
   ]
  },
  {
   "attachments": {},
   "cell_type": "markdown",
   "metadata": {},
   "source": [
    "### Few Shot: 小样板微调模板"
   ]
  },
  {
   "cell_type": "code",
   "execution_count": 27,
   "metadata": {},
   "outputs": [
    {
     "name": "stdout",
     "output_type": "stream",
     "text": [
      "Write antonyms for the following words.\n",
      "\n",
      "Input: happy\n",
      "Output: sad\n",
      "\n",
      "Input: tall\n",
      "Output: short\n",
      "\n",
      "Input: funny\n",
      "Output:\n"
     ]
    }
   ],
   "source": [
    "# 注： 里面的example_prompt和example合在一起来看\n",
    "prompt = load_prompt(\"./prompts/few_shot_prompt.json\")\n",
    "print(prompt.format(adjective=\"funny\"))"
   ]
  },
  {
   "attachments": {},
   "cell_type": "markdown",
   "metadata": {},
   "source": [
    "### 也可以直接把examples放在模板里"
   ]
  },
  {
   "cell_type": "code",
   "execution_count": 28,
   "metadata": {},
   "outputs": [
    {
     "name": "stdout",
     "output_type": "stream",
     "text": [
      "Write antonyms for the following words.\n",
      "\n",
      "Input: happy\n",
      "Output: sad\n",
      "\n",
      "Input: tall\n",
      "Output: short\n",
      "\n",
      "Input: funny\n",
      "Output:\n"
     ]
    }
   ],
   "source": [
    "prompt = load_prompt(\"./prompts/few_shot_prompt_examples_in.json\")\n",
    "print(prompt.format(adjective=\"funny\"))"
   ]
  },
  {
   "attachments": {},
   "cell_type": "markdown",
   "metadata": {},
   "source": [
    "### OutputParser: 带有OutputParser的PromptTemplate，即在输入的同时，可以指定输出格式"
   ]
  },
  {
   "cell_type": "code",
   "execution_count": 31,
   "metadata": {},
   "outputs": [
    {
     "data": {
      "text/plain": [
       "{'answer': 'George Washington was born in 1732 and died in 1799.',\n",
       " 'score': '1/2'}"
      ]
     },
     "execution_count": 31,
     "metadata": {},
     "output_type": "execute_result"
    }
   ],
   "source": [
    "prompt = load_prompt(\"./prompts/prompt_with_output_parser.json\")\n",
    "prompt.output_parser.parse(\"George Washington was born in 1732 and died in 1799.\\nScore: 1/2\")"
   ]
  },
  {
   "cell_type": "code",
   "execution_count": null,
   "metadata": {},
   "outputs": [],
   "source": []
  }
 ],
 "metadata": {
  "kernelspec": {
   "display_name": "Python 3.10.11 ('openai')",
   "language": "python",
   "name": "python3"
  },
  "language_info": {
   "codemirror_mode": {
    "name": "ipython",
    "version": 3
   },
   "file_extension": ".py",
   "mimetype": "text/x-python",
   "name": "python",
   "nbconvert_exporter": "python",
   "pygments_lexer": "ipython3",
   "version": "3.10.11"
  },
  "orig_nbformat": 4,
  "vscode": {
   "interpreter": {
    "hash": "382edab7741184ad6aa1b3bda453c7375fcc346d80c0b8f027407f5537ace097"
   }
  }
 },
 "nbformat": 4,
 "nbformat_minor": 2
}
